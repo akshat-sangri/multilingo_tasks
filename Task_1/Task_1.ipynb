{
 "cells": [
  {
   "cell_type": "markdown",
   "metadata": {},
   "source": [
    "## 1. Loading the data."
   ]
  },
  {
   "cell_type": "code",
   "execution_count": 1,
   "metadata": {},
   "outputs": [],
   "source": [
    "# import required libraries\n",
    "\n",
    "import pandas as pd\n",
    "import re\n",
    "import matplotlib.pyplot as plt\n",
    "import seaborn as sns\n",
    "sns.set()\n"
   ]
  },
  {
   "cell_type": "code",
   "execution_count": 2,
   "metadata": {},
   "outputs": [],
   "source": [
    "# read the data\n",
    "\n",
    "translation_data_df = pd.read_excel(\"datascientist-task-data-files/translation-data.xlsx\") \n"
   ]
  },
  {
   "cell_type": "code",
   "execution_count": 3,
   "metadata": {},
   "outputs": [
    {
     "data": {
      "text/plain": [
       "(100, 2)"
      ]
     },
     "execution_count": 3,
     "metadata": {},
     "output_type": "execute_result"
    }
   ],
   "source": [
    "# checking the shape of the data\n",
    "\n",
    "translation_data_df.shape\n"
   ]
  },
  {
   "cell_type": "code",
   "execution_count": 4,
   "metadata": {},
   "outputs": [
    {
     "data": {
      "text/html": [
       "<div>\n",
       "<style scoped>\n",
       "    .dataframe tbody tr th:only-of-type {\n",
       "        vertical-align: middle;\n",
       "    }\n",
       "\n",
       "    .dataframe tbody tr th {\n",
       "        vertical-align: top;\n",
       "    }\n",
       "\n",
       "    .dataframe thead th {\n",
       "        text-align: right;\n",
       "    }\n",
       "</style>\n",
       "<table border=\"1\" class=\"dataframe\">\n",
       "  <thead>\n",
       "    <tr style=\"text-align: right;\">\n",
       "      <th></th>\n",
       "      <th>English</th>\n",
       "      <th>German</th>\n",
       "    </tr>\n",
       "  </thead>\n",
       "  <tbody>\n",
       "    <tr>\n",
       "      <th>0</th>\n",
       "      <td>\"The mask with a grinning man's face appears c...</td>\n",
       "      <td>Die Maske mit grinsendem Männergesicht wirkt d...</td>\n",
       "    </tr>\n",
       "    <tr>\n",
       "      <th>1</th>\n",
       "      <td>The WSWS posted this comment on the slanderous...</td>\n",
       "      <td>Die WSWS hatte den folgenden Kommentar zu dies...</td>\n",
       "    </tr>\n",
       "    <tr>\n",
       "      <th>2</th>\n",
       "      <td>The Haitian manner of spelling 'vodou' was int...</td>\n",
       "      <td>\"Für diese Ausstellung wurde bewusst die haiti...</td>\n",
       "    </tr>\n",
       "    <tr>\n",
       "      <th>3</th>\n",
       "      <td>The database also records new manufacturers in...</td>\n",
       "      <td>Die Datenbank nimmt bei jeder neuen Herausgabe...</td>\n",
       "    </tr>\n",
       "    <tr>\n",
       "      <th>4</th>\n",
       "      <td>Medially this situation is hushed up with just...</td>\n",
       "      <td>Medial wird diese Situation, wenige Ausnahmen ...</td>\n",
       "    </tr>\n",
       "  </tbody>\n",
       "</table>\n",
       "</div>"
      ],
      "text/plain": [
       "                                             English  \\\n",
       "0  \"The mask with a grinning man's face appears c...   \n",
       "1  The WSWS posted this comment on the slanderous...   \n",
       "2  The Haitian manner of spelling 'vodou' was int...   \n",
       "3  The database also records new manufacturers in...   \n",
       "4  Medially this situation is hushed up with just...   \n",
       "\n",
       "                                              German  \n",
       "0  Die Maske mit grinsendem Männergesicht wirkt d...  \n",
       "1  Die WSWS hatte den folgenden Kommentar zu dies...  \n",
       "2  \"Für diese Ausstellung wurde bewusst die haiti...  \n",
       "3  Die Datenbank nimmt bei jeder neuen Herausgabe...  \n",
       "4  Medial wird diese Situation, wenige Ausnahmen ...  "
      ]
     },
     "execution_count": 4,
     "metadata": {},
     "output_type": "execute_result"
    }
   ],
   "source": [
    "# checking out first five sample sentences of the translation data\n",
    "\n",
    "translation_data_df.head()\n"
   ]
  },
  {
   "cell_type": "markdown",
   "metadata": {},
   "source": [
    "## 2. Preprocessing the data to make it syntactically and semantically clean."
   ]
  },
  {
   "cell_type": "markdown",
   "metadata": {},
   "source": [
    "* When reading a text file in Python using pandas, quotes are added to sentences that contain apostrophes because the apostrophe is used as a delimiter in the text file as we acn see in certain examples. \n",
    "\n",
    "* In other words, the text file uses the apostrophe to separate individual pieces of data, such as words or phrases. Because of this, the quotes are added to sentences that contain apostrophes to prevent the apostrophe from being interpreted as a delimiter.\n",
    "\n",
    "* In order to display the sentences correctly we have to detect and remove these quotes from the sentences containing them."
   ]
  },
  {
   "cell_type": "code",
   "execution_count": 5,
   "metadata": {},
   "outputs": [],
   "source": [
    "# Defining the regular expression patterns for checking pyhton quotes\n",
    "\n",
    "beginning_quotes_pattern = re.compile(r\"^\\\"\")\n",
    "end_quotes_pattern = re.compile(r\"\\\"$\")\n"
   ]
  },
  {
   "cell_type": "code",
   "execution_count": 6,
   "metadata": {},
   "outputs": [],
   "source": [
    "\n",
    "python_quotes_index = []\n",
    "for index, sentence in translation_data_df.iterrows():\n",
    "    if beginning_quotes_pattern.search(sentence['English']) and not beginning_quotes_pattern.search(sentence['German']):\n",
    "        python_quotes_index.append(index)\n",
    "    elif not beginning_quotes_pattern.search(sentence['English']) and beginning_quotes_pattern.search(sentence['German']):\n",
    "        python_quotes_index.append(index)\n",
    "    elif end_quotes_pattern.search(sentence['English']) and end_quotes_pattern.search(sentence['German']):\n",
    "        python_quotes_index.append(index)\n",
    "    elif not end_quotes_pattern.search(sentence['English'])and end_quotes_pattern.search(sentence['German']):\n",
    "        python_quotes_index.append(index)\n",
    "        "
   ]
  },
  {
   "cell_type": "code",
   "execution_count": 7,
   "metadata": {},
   "outputs": [
    {
     "data": {
      "text/plain": [
       "[0, 2, 6]"
      ]
     },
     "execution_count": 7,
     "metadata": {},
     "output_type": "execute_result"
    }
   ],
   "source": [
    "# checking the indices of the mismatched quotes\n",
    "\n",
    "python_quotes_index\n"
   ]
  },
  {
   "cell_type": "code",
   "execution_count": 8,
   "metadata": {},
   "outputs": [
    {
     "data": {
      "text/html": [
       "<div>\n",
       "<style scoped>\n",
       "    .dataframe tbody tr th:only-of-type {\n",
       "        vertical-align: middle;\n",
       "    }\n",
       "\n",
       "    .dataframe tbody tr th {\n",
       "        vertical-align: top;\n",
       "    }\n",
       "\n",
       "    .dataframe thead th {\n",
       "        text-align: right;\n",
       "    }\n",
       "</style>\n",
       "<table border=\"1\" class=\"dataframe\">\n",
       "  <thead>\n",
       "    <tr style=\"text-align: right;\">\n",
       "      <th></th>\n",
       "      <th>English</th>\n",
       "      <th>German</th>\n",
       "    </tr>\n",
       "  </thead>\n",
       "  <tbody>\n",
       "    <tr>\n",
       "      <th>0</th>\n",
       "      <td>\"The mask with a grinning man's face appears c...</td>\n",
       "      <td>Die Maske mit grinsendem Männergesicht wirkt d...</td>\n",
       "    </tr>\n",
       "    <tr>\n",
       "      <th>2</th>\n",
       "      <td>The Haitian manner of spelling 'vodou' was int...</td>\n",
       "      <td>\"Für diese Ausstellung wurde bewusst die haiti...</td>\n",
       "    </tr>\n",
       "    <tr>\n",
       "      <th>6</th>\n",
       "      <td>Activation mode for events defined in arrEvent...</td>\n",
       "      <td>\"Aktivierungsmodus für Ereignisse, definiert i...</td>\n",
       "    </tr>\n",
       "  </tbody>\n",
       "</table>\n",
       "</div>"
      ],
      "text/plain": [
       "                                             English  \\\n",
       "0  \"The mask with a grinning man's face appears c...   \n",
       "2  The Haitian manner of spelling 'vodou' was int...   \n",
       "6  Activation mode for events defined in arrEvent...   \n",
       "\n",
       "                                              German  \n",
       "0  Die Maske mit grinsendem Männergesicht wirkt d...  \n",
       "2  \"Für diese Ausstellung wurde bewusst die haiti...  \n",
       "6  \"Aktivierungsmodus für Ereignisse, definiert i...  "
      ]
     },
     "execution_count": 8,
     "metadata": {},
     "output_type": "execute_result"
    }
   ],
   "source": [
    "# printing the sentence pairs of the mismatched quotes\n",
    "\n",
    "translation_data_df.iloc[python_quotes_index]\n"
   ]
  },
  {
   "cell_type": "code",
   "execution_count": 9,
   "metadata": {},
   "outputs": [],
   "source": [
    "# removing the mismatched quotes\n",
    "\n",
    "for index in python_quotes_index:\n",
    "    if beginning_quotes_pattern.search(translation_data_df['English'].iloc[index]):\n",
    "        translation_data_df['English'].iloc[index] = translation_data_df['English'].iloc[index][1:]\n",
    "    elif end_quotes_pattern.search(translation_data_df['English'].iloc[index]):\n",
    "        translation_data_df['English'].iloc[index] = translation_data_df['English'].iloc[index][:-1]\n",
    "    elif beginning_quotes_pattern.search(translation_data_df['German'].iloc[index]):\n",
    "        translation_data_df['German'].iloc[index] = translation_data_df['German'].iloc[index][1:]\n",
    "    elif end_quotes_pattern.search(translation_data_df['German'].iloc[index]):\n",
    "        translation_data_df['German'].iloc[index] = translation_data_df['German'].iloc[index][:-1]\n",
    "        \n",
    "        "
   ]
  },
  {
   "cell_type": "code",
   "execution_count": 10,
   "metadata": {},
   "outputs": [
    {
     "data": {
      "text/html": [
       "<div>\n",
       "<style scoped>\n",
       "    .dataframe tbody tr th:only-of-type {\n",
       "        vertical-align: middle;\n",
       "    }\n",
       "\n",
       "    .dataframe tbody tr th {\n",
       "        vertical-align: top;\n",
       "    }\n",
       "\n",
       "    .dataframe thead th {\n",
       "        text-align: right;\n",
       "    }\n",
       "</style>\n",
       "<table border=\"1\" class=\"dataframe\">\n",
       "  <thead>\n",
       "    <tr style=\"text-align: right;\">\n",
       "      <th></th>\n",
       "      <th>English</th>\n",
       "      <th>German</th>\n",
       "    </tr>\n",
       "  </thead>\n",
       "  <tbody>\n",
       "    <tr>\n",
       "      <th>0</th>\n",
       "      <td>The mask with a grinning man's face appears ca...</td>\n",
       "      <td>Die Maske mit grinsendem Männergesicht wirkt d...</td>\n",
       "    </tr>\n",
       "    <tr>\n",
       "      <th>2</th>\n",
       "      <td>The Haitian manner of spelling 'vodou' was int...</td>\n",
       "      <td>Für diese Ausstellung wurde bewusst die haitia...</td>\n",
       "    </tr>\n",
       "    <tr>\n",
       "      <th>6</th>\n",
       "      <td>Activation mode for events defined in arrEvent...</td>\n",
       "      <td>Aktivierungsmodus für Ereignisse, definiert in...</td>\n",
       "    </tr>\n",
       "  </tbody>\n",
       "</table>\n",
       "</div>"
      ],
      "text/plain": [
       "                                             English  \\\n",
       "0  The mask with a grinning man's face appears ca...   \n",
       "2  The Haitian manner of spelling 'vodou' was int...   \n",
       "6  Activation mode for events defined in arrEvent...   \n",
       "\n",
       "                                              German  \n",
       "0  Die Maske mit grinsendem Männergesicht wirkt d...  \n",
       "2  Für diese Ausstellung wurde bewusst die haitia...  \n",
       "6  Aktivierungsmodus für Ereignisse, definiert in...  "
      ]
     },
     "execution_count": 10,
     "metadata": {},
     "output_type": "execute_result"
    }
   ],
   "source": [
    "# checking if the quotes have been removed\n",
    "\n",
    "translation_data_df.iloc[python_quotes_index]\n"
   ]
  },
  {
   "cell_type": "markdown",
   "metadata": {},
   "source": [
    "* We need to check if both the English (presumably source) and German (presumably target) sentences end with same punctuation marks."
   ]
  },
  {
   "cell_type": "code",
   "execution_count": 11,
   "metadata": {},
   "outputs": [],
   "source": [
    "# checking if there is an end punctuation mismatch\n",
    "\n",
    "punctuations = [\".\", \"?\", \"!\", \",\", \";\", \":\", \"'\", \"-\", '\"']\n",
    "end_punctuation_mismatch_index = []\n",
    "\n",
    "for index, sentence in translation_data_df.iterrows():\n",
    "    en_end_punc = sentence['English'].strip()[-1]\n",
    "    de_end_punc = sentence['German'].strip()[-1]\n",
    "    if (en_end_punc in punctuations) or (de_end_punc in punctuations):\n",
    "        if en_end_punc != de_end_punc:\n",
    "            end_punctuation_mismatch_index.append(index)\n",
    "            "
   ]
  },
  {
   "cell_type": "code",
   "execution_count": 12,
   "metadata": {},
   "outputs": [
    {
     "data": {
      "text/plain": [
       "[0, 2, 3, 6, 7, 11, 36, 37, 42, 46, 54, 66, 75]"
      ]
     },
     "execution_count": 12,
     "metadata": {},
     "output_type": "execute_result"
    }
   ],
   "source": [
    "# checking the indices of the mismatched ending punctuations\n",
    "\n",
    "end_punctuation_mismatch_index\n"
   ]
  },
  {
   "cell_type": "code",
   "execution_count": 13,
   "metadata": {},
   "outputs": [
    {
     "data": {
      "text/html": [
       "<div>\n",
       "<style scoped>\n",
       "    .dataframe tbody tr th:only-of-type {\n",
       "        vertical-align: middle;\n",
       "    }\n",
       "\n",
       "    .dataframe tbody tr th {\n",
       "        vertical-align: top;\n",
       "    }\n",
       "\n",
       "    .dataframe thead th {\n",
       "        text-align: right;\n",
       "    }\n",
       "</style>\n",
       "<table border=\"1\" class=\"dataframe\">\n",
       "  <thead>\n",
       "    <tr style=\"text-align: right;\">\n",
       "      <th></th>\n",
       "      <th>English</th>\n",
       "      <th>German</th>\n",
       "    </tr>\n",
       "  </thead>\n",
       "  <tbody>\n",
       "    <tr>\n",
       "      <th>0</th>\n",
       "      <td>The mask with a grinning man's face appears ca...</td>\n",
       "      <td>Die Maske mit grinsendem Männergesicht wirkt d...</td>\n",
       "    </tr>\n",
       "    <tr>\n",
       "      <th>2</th>\n",
       "      <td>The Haitian manner of spelling 'vodou' was int...</td>\n",
       "      <td>Für diese Ausstellung wurde bewusst die haitia...</td>\n",
       "    </tr>\n",
       "    <tr>\n",
       "      <th>3</th>\n",
       "      <td>The database also records new manufacturers in...</td>\n",
       "      <td>Die Datenbank nimmt bei jeder neuen Herausgabe...</td>\n",
       "    </tr>\n",
       "    <tr>\n",
       "      <th>6</th>\n",
       "      <td>Activation mode for events defined in arrEvent...</td>\n",
       "      <td>Aktivierungsmodus für Ereignisse, definiert in...</td>\n",
       "    </tr>\n",
       "    <tr>\n",
       "      <th>7</th>\n",
       "      <td>Mr. Esmond, I resign.</td>\n",
       "      <td>Mr. Esmond, ich trete zurück</td>\n",
       "    </tr>\n",
       "    <tr>\n",
       "      <th>11</th>\n",
       "      <td>As I have mentioned, SOB offers Greek texts no...</td>\n",
       "      <td>SOB bietet die griechischen Texte nicht nur mi...</td>\n",
       "    </tr>\n",
       "    <tr>\n",
       "      <th>36</th>\n",
       "      <td>The flannels are in men's sizes so they are me...</td>\n",
       "      <td>Die Flanelle sind in Herrengrößen, so sollen s...</td>\n",
       "    </tr>\n",
       "    <tr>\n",
       "      <th>37</th>\n",
       "      <td>Throughout the summer the villages celebrate t...</td>\n",
       "      <td>Während des ganzen Sommers feiern die Dörfer i...</td>\n",
       "    </tr>\n",
       "    <tr>\n",
       "      <th>42</th>\n",
       "      <td>14 of 26 Restaurants in Castries 2 reviews</td>\n",
       "      <td>Nr. 14 von 26 Restaurants in Castries 2 Bewert...</td>\n",
       "    </tr>\n",
       "    <tr>\n",
       "      <th>46</th>\n",
       "      <td>Huflattich 2016. Designed by Anni Freiburgb? r...</td>\n",
       "      <td>Publiziert 3. August 2016 | Von Anni Freiburgb...</td>\n",
       "    </tr>\n",
       "    <tr>\n",
       "      <th>54</th>\n",
       "      <td>This, of course, requires a certain degree of ...</td>\n",
       "      <td>Dies erfordert natürlich eine gewisse Allgemei...</td>\n",
       "    </tr>\n",
       "    <tr>\n",
       "      <th>66</th>\n",
       "      <td>According to previous reports, Commission Vice...</td>\n",
       "      <td>Verschiedenen Berichten zufolge würde der derz...</td>\n",
       "    </tr>\n",
       "    <tr>\n",
       "      <th>75</th>\n",
       "      <td>if such recognition is manifestly contrary to ...</td>\n",
       "      <td>Die Vorschriften über die Zuständigkeit gehöre...</td>\n",
       "    </tr>\n",
       "  </tbody>\n",
       "</table>\n",
       "</div>"
      ],
      "text/plain": [
       "                                              English  \\\n",
       "0   The mask with a grinning man's face appears ca...   \n",
       "2   The Haitian manner of spelling 'vodou' was int...   \n",
       "3   The database also records new manufacturers in...   \n",
       "6   Activation mode for events defined in arrEvent...   \n",
       "7                               Mr. Esmond, I resign.   \n",
       "11  As I have mentioned, SOB offers Greek texts no...   \n",
       "36  The flannels are in men's sizes so they are me...   \n",
       "37  Throughout the summer the villages celebrate t...   \n",
       "42         14 of 26 Restaurants in Castries 2 reviews   \n",
       "46  Huflattich 2016. Designed by Anni Freiburgb? r...   \n",
       "54  This, of course, requires a certain degree of ...   \n",
       "66  According to previous reports, Commission Vice...   \n",
       "75  if such recognition is manifestly contrary to ...   \n",
       "\n",
       "                                               German  \n",
       "0   Die Maske mit grinsendem Männergesicht wirkt d...  \n",
       "2   Für diese Ausstellung wurde bewusst die haitia...  \n",
       "3   Die Datenbank nimmt bei jeder neuen Herausgabe...  \n",
       "6   Aktivierungsmodus für Ereignisse, definiert in...  \n",
       "7                        Mr. Esmond, ich trete zurück  \n",
       "11  SOB bietet die griechischen Texte nicht nur mi...  \n",
       "36  Die Flanelle sind in Herrengrößen, so sollen s...  \n",
       "37  Während des ganzen Sommers feiern die Dörfer i...  \n",
       "42  Nr. 14 von 26 Restaurants in Castries 2 Bewert...  \n",
       "46  Publiziert 3. August 2016 | Von Anni Freiburgb...  \n",
       "54  Dies erfordert natürlich eine gewisse Allgemei...  \n",
       "66  Verschiedenen Berichten zufolge würde der derz...  \n",
       "75  Die Vorschriften über die Zuständigkeit gehöre...  "
      ]
     },
     "execution_count": 13,
     "metadata": {},
     "output_type": "execute_result"
    }
   ],
   "source": [
    "# printing the sentences having end punctuation mismatch\n",
    "\n",
    "translation_data_df.iloc[end_punctuation_mismatch_index]\n"
   ]
  },
  {
   "cell_type": "code",
   "execution_count": 14,
   "metadata": {},
   "outputs": [],
   "source": [
    "# fixing the end punctuation mismatch \n",
    "\n",
    "for index in end_punctuation_mismatch_index:\n",
    "    en_end_punc = translation_data_df['English'].iloc[index][-1]\n",
    "    de_end_punc = translation_data_df['German'].iloc[index][-1]\n",
    "    if en_end_punc in punctuations:\n",
    "        if de_end_punc in punctuations:\n",
    "            translation_data_df['German'].iloc[index] = translation_data_df['German'].iloc[index][:-1] + en_end_punc\n",
    "        else:\n",
    "            translation_data_df['German'].iloc[index] = translation_data_df['German'].iloc[index] + en_end_punc\n"
   ]
  },
  {
   "cell_type": "code",
   "execution_count": 15,
   "metadata": {},
   "outputs": [
    {
     "data": {
      "text/html": [
       "<div>\n",
       "<style scoped>\n",
       "    .dataframe tbody tr th:only-of-type {\n",
       "        vertical-align: middle;\n",
       "    }\n",
       "\n",
       "    .dataframe tbody tr th {\n",
       "        vertical-align: top;\n",
       "    }\n",
       "\n",
       "    .dataframe thead th {\n",
       "        text-align: right;\n",
       "    }\n",
       "</style>\n",
       "<table border=\"1\" class=\"dataframe\">\n",
       "  <thead>\n",
       "    <tr style=\"text-align: right;\">\n",
       "      <th></th>\n",
       "      <th>English</th>\n",
       "      <th>German</th>\n",
       "    </tr>\n",
       "  </thead>\n",
       "  <tbody>\n",
       "    <tr>\n",
       "      <th>0</th>\n",
       "      <td>The mask with a grinning man's face appears ca...</td>\n",
       "      <td>Die Maske mit grinsendem Männergesicht wirkt d...</td>\n",
       "    </tr>\n",
       "    <tr>\n",
       "      <th>2</th>\n",
       "      <td>The Haitian manner of spelling 'vodou' was int...</td>\n",
       "      <td>Für diese Ausstellung wurde bewusst die haitia...</td>\n",
       "    </tr>\n",
       "    <tr>\n",
       "      <th>3</th>\n",
       "      <td>The database also records new manufacturers in...</td>\n",
       "      <td>Die Datenbank nimmt bei jeder neuen Herausgabe...</td>\n",
       "    </tr>\n",
       "    <tr>\n",
       "      <th>6</th>\n",
       "      <td>Activation mode for events defined in arrEvent...</td>\n",
       "      <td>Aktivierungsmodus für Ereignisse, definiert in...</td>\n",
       "    </tr>\n",
       "    <tr>\n",
       "      <th>7</th>\n",
       "      <td>Mr. Esmond, I resign.</td>\n",
       "      <td>Mr. Esmond, ich trete zurück.</td>\n",
       "    </tr>\n",
       "    <tr>\n",
       "      <th>11</th>\n",
       "      <td>As I have mentioned, SOB offers Greek texts no...</td>\n",
       "      <td>SOB bietet die griechischen Texte nicht nur mi...</td>\n",
       "    </tr>\n",
       "    <tr>\n",
       "      <th>36</th>\n",
       "      <td>The flannels are in men's sizes so they are me...</td>\n",
       "      <td>Die Flanelle sind in Herrengrößen, so sollen s...</td>\n",
       "    </tr>\n",
       "    <tr>\n",
       "      <th>37</th>\n",
       "      <td>Throughout the summer the villages celebrate t...</td>\n",
       "      <td>Während des ganzen Sommers feiern die Dörfer i...</td>\n",
       "    </tr>\n",
       "    <tr>\n",
       "      <th>42</th>\n",
       "      <td>14 of 26 Restaurants in Castries 2 reviews</td>\n",
       "      <td>Nr. 14 von 26 Restaurants in Castries 2 Bewert...</td>\n",
       "    </tr>\n",
       "    <tr>\n",
       "      <th>46</th>\n",
       "      <td>Huflattich 2016. Designed by Anni Freiburgb? r...</td>\n",
       "      <td>Publiziert 3. August 2016 | Von Anni Freiburgb...</td>\n",
       "    </tr>\n",
       "    <tr>\n",
       "      <th>54</th>\n",
       "      <td>This, of course, requires a certain degree of ...</td>\n",
       "      <td>Dies erfordert natürlich eine gewisse Allgemei...</td>\n",
       "    </tr>\n",
       "    <tr>\n",
       "      <th>66</th>\n",
       "      <td>According to previous reports, Commission Vice...</td>\n",
       "      <td>Verschiedenen Berichten zufolge würde der derz...</td>\n",
       "    </tr>\n",
       "    <tr>\n",
       "      <th>75</th>\n",
       "      <td>if such recognition is manifestly contrary to ...</td>\n",
       "      <td>Die Vorschriften über die Zuständigkeit gehöre...</td>\n",
       "    </tr>\n",
       "  </tbody>\n",
       "</table>\n",
       "</div>"
      ],
      "text/plain": [
       "                                              English  \\\n",
       "0   The mask with a grinning man's face appears ca...   \n",
       "2   The Haitian manner of spelling 'vodou' was int...   \n",
       "3   The database also records new manufacturers in...   \n",
       "6   Activation mode for events defined in arrEvent...   \n",
       "7                               Mr. Esmond, I resign.   \n",
       "11  As I have mentioned, SOB offers Greek texts no...   \n",
       "36  The flannels are in men's sizes so they are me...   \n",
       "37  Throughout the summer the villages celebrate t...   \n",
       "42         14 of 26 Restaurants in Castries 2 reviews   \n",
       "46  Huflattich 2016. Designed by Anni Freiburgb? r...   \n",
       "54  This, of course, requires a certain degree of ...   \n",
       "66  According to previous reports, Commission Vice...   \n",
       "75  if such recognition is manifestly contrary to ...   \n",
       "\n",
       "                                               German  \n",
       "0   Die Maske mit grinsendem Männergesicht wirkt d...  \n",
       "2   Für diese Ausstellung wurde bewusst die haitia...  \n",
       "3   Die Datenbank nimmt bei jeder neuen Herausgabe...  \n",
       "6   Aktivierungsmodus für Ereignisse, definiert in...  \n",
       "7                       Mr. Esmond, ich trete zurück.  \n",
       "11  SOB bietet die griechischen Texte nicht nur mi...  \n",
       "36  Die Flanelle sind in Herrengrößen, so sollen s...  \n",
       "37  Während des ganzen Sommers feiern die Dörfer i...  \n",
       "42  Nr. 14 von 26 Restaurants in Castries 2 Bewert...  \n",
       "46  Publiziert 3. August 2016 | Von Anni Freiburgb...  \n",
       "54  Dies erfordert natürlich eine gewisse Allgemei...  \n",
       "66  Verschiedenen Berichten zufolge würde der derz...  \n",
       "75  Die Vorschriften über die Zuständigkeit gehöre...  "
      ]
     },
     "execution_count": 15,
     "metadata": {},
     "output_type": "execute_result"
    }
   ],
   "source": [
    "# checking if the end punctuations have been fixed\n",
    "\n",
    "translation_data_df.iloc[end_punctuation_mismatch_index]\n"
   ]
  },
  {
   "cell_type": "code",
   "execution_count": 16,
   "metadata": {},
   "outputs": [],
   "source": [
    "# checking if the translation sentences contain tags in them.\n",
    "\n",
    "sentence_with_tags_index = []\n",
    "for index, sentence in translation_data_df.iterrows():\n",
    "    english_tags = re.findall(r'<.*?>|>', sentence['English'])\n",
    "    german_tags = re.findall(r'<.*?>|>', sentence['German'])\n",
    "    if english_tags:\n",
    "        sentence_with_tags_index.append(index)\n",
    "    if german_tags:\n",
    "        sentence_with_tags_index.append(index)\n",
    "        "
   ]
  },
  {
   "cell_type": "code",
   "execution_count": 17,
   "metadata": {},
   "outputs": [
    {
     "data": {
      "text/plain": [
       "[81, 89, 92, 94, 95, 98]"
      ]
     },
     "execution_count": 17,
     "metadata": {},
     "output_type": "execute_result"
    }
   ],
   "source": [
    "# checking the indices of the sentences containing tags\n",
    "\n",
    "sentence_with_tags_index"
   ]
  },
  {
   "cell_type": "code",
   "execution_count": 18,
   "metadata": {},
   "outputs": [
    {
     "data": {
      "text/html": [
       "<div>\n",
       "<style scoped>\n",
       "    .dataframe tbody tr th:only-of-type {\n",
       "        vertical-align: middle;\n",
       "    }\n",
       "\n",
       "    .dataframe tbody tr th {\n",
       "        vertical-align: top;\n",
       "    }\n",
       "\n",
       "    .dataframe thead th {\n",
       "        text-align: right;\n",
       "    }\n",
       "</style>\n",
       "<table border=\"1\" class=\"dataframe\">\n",
       "  <thead>\n",
       "    <tr style=\"text-align: right;\">\n",
       "      <th></th>\n",
       "      <th>English</th>\n",
       "      <th>German</th>\n",
       "    </tr>\n",
       "  </thead>\n",
       "  <tbody>\n",
       "    <tr>\n",
       "      <th>81</th>\n",
       "      <td>Since 1983 he has trained several generations ...</td>\n",
       "      <td>Seit 1983 hat er mehrere Generationen von Muay...</td>\n",
       "    </tr>\n",
       "    <tr>\n",
       "      <th>89</th>\n",
       "      <td>Prior says the latent potential in Thailand is...</td>\n",
       "      <td>Prior ist dennoch davon überzeugt, dass das vo...</td>\n",
       "    </tr>\n",
       "    <tr>\n",
       "      <th>92</th>\n",
       "      <td>Other &lt;i&gt;productions&lt;/i&gt; from La Forêt Des Brumes</td>\n",
       "      <td>Anderen Alben von La Forêt Des Brumes</td>\n",
       "    </tr>\n",
       "    <tr>\n",
       "      <th>94</th>\n",
       "      <td>Maximum size of a &lt;tag:value&gt; backup &lt;/tag&gt; se...</td>\n",
       "      <td>Max. Größe einer Sicherungsgruppe für Archivelogs</td>\n",
       "    </tr>\n",
       "    <tr>\n",
       "      <th>95</th>\n",
       "      <td>You will then have some free time before the d...</td>\n",
       "      <td>Es wird auch einige Zeit zur freien Verfügung ...</td>\n",
       "    </tr>\n",
       "    <tr>\n",
       "      <th>98</th>\n",
       "      <td>Their caps are brown &lt;&lt;tag:ends /&gt;&gt; and streaked.</td>\n",
       "      <td>Der Oberkopf ist braun und gestreift.</td>\n",
       "    </tr>\n",
       "  </tbody>\n",
       "</table>\n",
       "</div>"
      ],
      "text/plain": [
       "                                              English  \\\n",
       "81  Since 1983 he has trained several generations ...   \n",
       "89  Prior says the latent potential in Thailand is...   \n",
       "92  Other <i>productions</i> from La Forêt Des Brumes   \n",
       "94  Maximum size of a <tag:value> backup </tag> se...   \n",
       "95  You will then have some free time before the d...   \n",
       "98  Their caps are brown <<tag:ends />> and streaked.   \n",
       "\n",
       "                                               German  \n",
       "81  Seit 1983 hat er mehrere Generationen von Muay...  \n",
       "89  Prior ist dennoch davon überzeugt, dass das vo...  \n",
       "92              Anderen Alben von La Forêt Des Brumes  \n",
       "94  Max. Größe einer Sicherungsgruppe für Archivelogs  \n",
       "95  Es wird auch einige Zeit zur freien Verfügung ...  \n",
       "98              Der Oberkopf ist braun und gestreift.  "
      ]
     },
     "execution_count": 18,
     "metadata": {},
     "output_type": "execute_result"
    }
   ],
   "source": [
    "# printing the sentences having end punctuation mismatch\n",
    "\n",
    "translation_data_df.iloc[sentence_with_tags_index]\n"
   ]
  },
  {
   "cell_type": "markdown",
   "metadata": {},
   "source": [
    "* As we can see that there are some irregular tags present in the corpus.\n",
    "* Depending upon the requirement we can either replace the tags with a placeholder variable\n",
    "or in this particular case they signify no meaningful value therefore they (tags) can be removed"
   ]
  },
  {
   "cell_type": "code",
   "execution_count": 19,
   "metadata": {},
   "outputs": [],
   "source": [
    "# removing the irregular tags from sentences \n",
    "\n",
    "for index in sentence_with_tags_index:\n",
    "    translation_data_df['English'].iloc[index] = re.sub(r'<.*?>|>', \"\", translation_data_df['English'].iloc[index])\n",
    "    translation_data_df['German'].iloc[index] = re.sub(r'<.*?>|>', \"\", translation_data_df['German'].iloc[index])\n",
    "    "
   ]
  },
  {
   "cell_type": "code",
   "execution_count": 20,
   "metadata": {},
   "outputs": [
    {
     "data": {
      "text/html": [
       "<div>\n",
       "<style scoped>\n",
       "    .dataframe tbody tr th:only-of-type {\n",
       "        vertical-align: middle;\n",
       "    }\n",
       "\n",
       "    .dataframe tbody tr th {\n",
       "        vertical-align: top;\n",
       "    }\n",
       "\n",
       "    .dataframe thead th {\n",
       "        text-align: right;\n",
       "    }\n",
       "</style>\n",
       "<table border=\"1\" class=\"dataframe\">\n",
       "  <thead>\n",
       "    <tr style=\"text-align: right;\">\n",
       "      <th></th>\n",
       "      <th>English</th>\n",
       "      <th>German</th>\n",
       "    </tr>\n",
       "  </thead>\n",
       "  <tbody>\n",
       "    <tr>\n",
       "      <th>81</th>\n",
       "      <td>Since 1983 he has trained several generations ...</td>\n",
       "      <td>Seit 1983 hat er mehrere Generationen von Muay...</td>\n",
       "    </tr>\n",
       "    <tr>\n",
       "      <th>89</th>\n",
       "      <td>Prior says the latent potential in Thailand is...</td>\n",
       "      <td>Prior ist dennoch davon überzeugt, dass das vo...</td>\n",
       "    </tr>\n",
       "    <tr>\n",
       "      <th>92</th>\n",
       "      <td>Other productions from La Forêt Des Brumes</td>\n",
       "      <td>Anderen Alben von La Forêt Des Brumes</td>\n",
       "    </tr>\n",
       "    <tr>\n",
       "      <th>94</th>\n",
       "      <td>Maximum size of a  backup  set for archivelogs</td>\n",
       "      <td>Max. Größe einer Sicherungsgruppe für Archivelogs</td>\n",
       "    </tr>\n",
       "    <tr>\n",
       "      <th>95</th>\n",
       "      <td>You will then have some free time before the d...</td>\n",
       "      <td>Es wird auch einige Zeit zur freien Verfügung ...</td>\n",
       "    </tr>\n",
       "    <tr>\n",
       "      <th>98</th>\n",
       "      <td>Their caps are brown  and streaked.</td>\n",
       "      <td>Der Oberkopf ist braun und gestreift.</td>\n",
       "    </tr>\n",
       "  </tbody>\n",
       "</table>\n",
       "</div>"
      ],
      "text/plain": [
       "                                              English  \\\n",
       "81  Since 1983 he has trained several generations ...   \n",
       "89  Prior says the latent potential in Thailand is...   \n",
       "92         Other productions from La Forêt Des Brumes   \n",
       "94     Maximum size of a  backup  set for archivelogs   \n",
       "95  You will then have some free time before the d...   \n",
       "98                Their caps are brown  and streaked.   \n",
       "\n",
       "                                               German  \n",
       "81  Seit 1983 hat er mehrere Generationen von Muay...  \n",
       "89  Prior ist dennoch davon überzeugt, dass das vo...  \n",
       "92              Anderen Alben von La Forêt Des Brumes  \n",
       "94  Max. Größe einer Sicherungsgruppe für Archivelogs  \n",
       "95  Es wird auch einige Zeit zur freien Verfügung ...  \n",
       "98              Der Oberkopf ist braun und gestreift.  "
      ]
     },
     "execution_count": 20,
     "metadata": {},
     "output_type": "execute_result"
    }
   ],
   "source": [
    "# printing the sentences to check if the tags have been removed\n",
    "\n",
    "translation_data_df.iloc[sentence_with_tags_index]\n"
   ]
  },
  {
   "cell_type": "markdown",
   "metadata": {},
   "source": [
    "* Sometimes, while creating a parallel dataset two sentences can be mistakenly added into one sentence. \n",
    "* This creates ambiguity as source sentence contains extra words and target sentence doesn't. \n",
    "* By comparing the length of the sentences in both the sentence pairs we can see if the sentence pairs are of comparable lengths if not then we can take an appropriate decision to handel them.\n"
   ]
  },
  {
   "cell_type": "code",
   "execution_count": 21,
   "metadata": {},
   "outputs": [],
   "source": [
    "# creating new columns that indicate the number of words in both English and German sentences using lambda function\n",
    "\n",
    "translation_data_df['word_count_en'] = translation_data_df.English.apply(lambda x: len(x.split()))\n",
    "translation_data_df['word_count_de'] = translation_data_df.German.apply(lambda x: len(x.split()))\n"
   ]
  },
  {
   "cell_type": "code",
   "execution_count": 22,
   "metadata": {},
   "outputs": [],
   "source": [
    "# calculating the difference between the number of words in English and German sentences\n",
    "\n",
    "translation_data_df = translation_data_df.assign(diff=lambda x: (x['word_count_en'] - x['word_count_de']))\n"
   ]
  },
  {
   "cell_type": "code",
   "execution_count": 23,
   "metadata": {},
   "outputs": [
    {
     "data": {
      "image/png": "[encoded data removed]",
      "text/plain": [
       "<matplotlib.figure.Figure at 0x28f6689c6a0>"
      ]
     },
     "metadata": {},
     "output_type": "display_data"
    }
   ],
   "source": [
    "# plotting the histogram to see the quality of the data\n",
    "\n",
    "fig, ax = plt.subplots(figsize = (10,10))\n",
    "translation_data_df['diff'].plot(kind = \"hist\", bins=range(-40,50,1), log=True)\n",
    "plt.show()\n"
   ]
  },
  {
   "cell_type": "code",
   "execution_count": 24,
   "metadata": {},
   "outputs": [],
   "source": [
    "# checking if the difference between the number of words is graeter or lesser than 10\n",
    "\n",
    "outlier_index = translation_data_df[(translation_data_df[\"diff\"] > 10) | (translation_data_df[\"diff\"] < -10)].index\n"
   ]
  },
  {
   "cell_type": "code",
   "execution_count": 25,
   "metadata": {},
   "outputs": [
    {
     "data": {
      "text/plain": [
       "[66, 99]"
      ]
     },
     "execution_count": 25,
     "metadata": {},
     "output_type": "execute_result"
    }
   ],
   "source": [
    "\n",
    "list(outlier_index)\n"
   ]
  },
  {
   "cell_type": "code",
   "execution_count": 26,
   "metadata": {},
   "outputs": [
    {
     "data": {
      "text/html": [
       "<div>\n",
       "<style scoped>\n",
       "    .dataframe tbody tr th:only-of-type {\n",
       "        vertical-align: middle;\n",
       "    }\n",
       "\n",
       "    .dataframe tbody tr th {\n",
       "        vertical-align: top;\n",
       "    }\n",
       "\n",
       "    .dataframe thead th {\n",
       "        text-align: right;\n",
       "    }\n",
       "</style>\n",
       "<table border=\"1\" class=\"dataframe\">\n",
       "  <thead>\n",
       "    <tr style=\"text-align: right;\">\n",
       "      <th></th>\n",
       "      <th>English</th>\n",
       "      <th>German</th>\n",
       "      <th>word_count_en</th>\n",
       "      <th>word_count_de</th>\n",
       "      <th>diff</th>\n",
       "    </tr>\n",
       "  </thead>\n",
       "  <tbody>\n",
       "    <tr>\n",
       "      <th>66</th>\n",
       "      <td>According to previous reports, Commission Vice...</td>\n",
       "      <td>Verschiedenen Berichten zufolge würde der derz...</td>\n",
       "      <td>10</td>\n",
       "      <td>42</td>\n",
       "      <td>-32</td>\n",
       "    </tr>\n",
       "    <tr>\n",
       "      <th>99</th>\n",
       "      <td>Device for moulding foamed plastic articles. T...</td>\n",
       "      <td>Vorrichtung zum Giessen von Gegenständen aus g...</td>\n",
       "      <td>26</td>\n",
       "      <td>8</td>\n",
       "      <td>18</td>\n",
       "    </tr>\n",
       "  </tbody>\n",
       "</table>\n",
       "</div>"
      ],
      "text/plain": [
       "                                              English  \\\n",
       "66  According to previous reports, Commission Vice...   \n",
       "99  Device for moulding foamed plastic articles. T...   \n",
       "\n",
       "                                               German  word_count_en  \\\n",
       "66  Verschiedenen Berichten zufolge würde der derz...             10   \n",
       "99  Vorrichtung zum Giessen von Gegenständen aus g...             26   \n",
       "\n",
       "    word_count_de  diff  \n",
       "66             42   -32  \n",
       "99              8    18  "
      ]
     },
     "execution_count": 26,
     "metadata": {},
     "output_type": "execute_result"
    }
   ],
   "source": [
    "# printing the sentences to check if the tags have been removed\n",
    "\n",
    "translation_data_df.iloc[list(outlier_index)]\n"
   ]
  },
  {
   "cell_type": "code",
   "execution_count": null,
   "metadata": {},
   "outputs": [],
   "source": []
  },
  {
   "cell_type": "code",
   "execution_count": 27,
   "metadata": {},
   "outputs": [],
   "source": [
    "# removing the outlier sentences \n",
    "\n",
    "translation_data_df.drop(index=list(outlier_index), inplace=True)\n"
   ]
  },
  {
   "cell_type": "code",
   "execution_count": 28,
   "metadata": {},
   "outputs": [],
   "source": [
    "# removing the redundant columns and resetting the indices\n",
    "\n",
    "translation_data_df = translation_data_df.drop(columns=\"word_count_en\")\n",
    "translation_data_df = translation_data_df.drop(columns=\"word_count_de\")\n",
    "translation_data_df = translation_data_df.drop(columns=\"diff\")\n",
    "translation_data_df.reset_index(drop=True, inplace=True)\n"
   ]
  },
  {
   "cell_type": "code",
   "execution_count": 29,
   "metadata": {},
   "outputs": [
    {
     "data": {
      "text/plain": [
       "(98, 2)"
      ]
     },
     "execution_count": 29,
     "metadata": {},
     "output_type": "execute_result"
    }
   ],
   "source": [
    "# checking the final shape of the data\n",
    "\n",
    "translation_data_df.shape\n"
   ]
  },
  {
   "cell_type": "markdown",
   "metadata": {},
   "source": [
    "## 3. Saving the cleaned data"
   ]
  },
  {
   "cell_type": "code",
   "execution_count": 30,
   "metadata": {},
   "outputs": [],
   "source": [
    "# store cleaned data\n",
    "\n",
    "translation_data_df.to_excel(\"datascientist-task-data-files/cleaned_translation-data.xlsx\", index=False)\n"
   ]
  },
  {
   "cell_type": "code",
   "execution_count": null,
   "metadata": {},
   "outputs": [],
   "source": []
  }
 ],
 "metadata": {
  "kernelspec": {
   "display_name": "dataprocess",
   "language": "python",
   "name": "dataprocess"
  },
  "language_info": {
   "codemirror_mode": {
    "name": "ipython",
    "version": 3
   },
   "file_extension": ".py",
   "mimetype": "text/x-python",
   "name": "python",
   "nbconvert_exporter": "python",
   "pygments_lexer": "ipython3",
   "version": "3.6.4"
  }
 },
 "nbformat": 4,
 "nbformat_minor": 2
}
